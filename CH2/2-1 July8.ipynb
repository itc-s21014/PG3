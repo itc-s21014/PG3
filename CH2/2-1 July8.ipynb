{
 "cells": [
  {
   "cell_type": "code",
   "execution_count": 8,
   "metadata": {},
   "outputs": [
    {
     "name": "stdout",
     "output_type": "stream",
     "text": [
      "7!=False\n"
     ]
    }
   ],
   "source": [
    "import random\n",
    "\n",
    "ope_list=['<','>','<=','>=','==','!=','and','or']\n",
    "int_list=[1,2,3,4,5,6,7,8,9,'True','False']\n",
    "\n",
    "intA=random.randint(0,len(int_list)-1)\n",
    "int_form=str(int_list[intA])\n",
    "\n",
    "for a in range(1,2):\n",
    "    opeA=random.randint(0,len(ope_list)-1)\n",
    "    intB=random.randint(0,len(int_list)-1)\n",
    "    int_form+=ope_list[opeA]+str(int_list[intB])\n",
    "    \n",
    "print(int_form)"
   ]
  },
  {
   "cell_type": "code",
   "execution_count": 12,
   "metadata": {},
   "outputs": [
    {
     "name": "stdout",
     "output_type": "stream",
     "text": [
      "1+2\n"
     ]
    }
   ],
   "source": [
    "ope_list=['+','-','*','/']\n",
    "int_list=[1,2,3,4,5,6,7,8,9]\n",
    "\n",
    "print(str(int_list[0])+ope_list[0]+str(int_list[1]))"
   ]
  },
  {
   "cell_type": "code",
   "execution_count": 13,
   "metadata": {},
   "outputs": [
    {
     "name": "stdout",
     "output_type": "stream",
     "text": [
      "1+2\n"
     ]
    }
   ],
   "source": [
    "ope_list=['+','-','*','/']\n",
    "int_list=[1,2,3,4,5,6,7,8,9]\n",
    "\n",
    "intA=0\n",
    "opeA=0\n",
    "intB=1\n",
    "\n",
    "print(str(int_list[0])+ope_list[0]+str(int_list[1]))"
   ]
  },
  {
   "cell_type": "code",
   "execution_count": 15,
   "metadata": {},
   "outputs": [
    {
     "name": "stdout",
     "output_type": "stream",
     "text": [
      "1+2\n"
     ]
    }
   ],
   "source": [
    "ope_list=['+','-','*','/']\n",
    "int_list=[1,2,3,4,5,6,7,8,9]\n",
    "\n",
    "intA=0\n",
    "int_form=str(int_list[intA])\n",
    "\n",
    "opeA=0\n",
    "intB=1\n",
    "int_form+=ope_list[opeA]+str(int_list[intB])\n",
    "\n",
    "print(int_form)"
   ]
  },
  {
   "cell_type": "code",
   "execution_count": 16,
   "metadata": {},
   "outputs": [
    {
     "name": "stdout",
     "output_type": "stream",
     "text": [
      "1+2\n"
     ]
    }
   ],
   "source": [
    "ope_list=['+','-','*','/']\n",
    "int_list=['1','2','3','4','5','6','7','8','9']\n",
    "\n",
    "print(str(int_list[0])+ope_list[0]+str(int_list[1]))"
   ]
  },
  {
   "cell_type": "code",
   "execution_count": 17,
   "metadata": {},
   "outputs": [
    {
     "name": "stdout",
     "output_type": "stream",
     "text": [
      "1+2\n"
     ]
    }
   ],
   "source": [
    "ope_list=['+','-','*','/']\n",
    "int_list=['1','2','3','4','5','6','7','8','9']\n",
    "\n",
    "intA=0\n",
    "opeA=0\n",
    "intB=1\n",
    "\n",
    "print(str(int_list[0])+ope_list[0]+str(int_list[1]))"
   ]
  },
  {
   "cell_type": "code",
   "execution_count": 19,
   "metadata": {},
   "outputs": [
    {
     "name": "stdout",
     "output_type": "stream",
     "text": [
      "1+2\n"
     ]
    }
   ],
   "source": [
    "ope_list=['+','-','*','/']\n",
    "int_list=['1','2','3','4','5','6','7','8','9']\n",
    "\n",
    "intA=0\n",
    "int_form=int_list[intA]\n",
    "\n",
    "opeA=0\n",
    "intB=1\n",
    "int_form+=ope_list[opeA]+int_list[intB]\n",
    "\n",
    "print(int_form)"
   ]
  },
  {
   "cell_type": "code",
   "execution_count": 21,
   "metadata": {},
   "outputs": [
    {
     "name": "stdout",
     "output_type": "stream",
     "text": [
      "2+7\n"
     ]
    }
   ],
   "source": [
    "import random\n",
    "\n",
    "ope_list=['+','-','*','/']\n",
    "int_list=['1','2','3','4','5','6','7','8','9']\n",
    "\n",
    "intA=random.randint(0,8)\n",
    "int_form=int_list[intA]\n",
    "\n",
    "opeA=random.randint(0,3)\n",
    "intB=random.randint(0,8)\n",
    "int_form+=ope_list[opeA]+int_list[intB]\n",
    "\n",
    "print(int_form)"
   ]
  },
  {
   "cell_type": "code",
   "execution_count": null,
   "metadata": {},
   "outputs": [],
   "source": []
  }
 ],
 "metadata": {
  "kernelspec": {
   "display_name": "Python 3",
   "language": "python",
   "name": "python3"
  },
  "language_info": {
   "codemirror_mode": {
    "name": "ipython",
    "version": 3
   },
   "file_extension": ".py",
   "mimetype": "text/x-python",
   "name": "python",
   "nbconvert_exporter": "python",
   "pygments_lexer": "ipython3",
   "version": "3.8.10"
  }
 },
 "nbformat": 4,
 "nbformat_minor": 4
}
