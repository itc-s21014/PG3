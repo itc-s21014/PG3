{
 "cells": [
  {
   "cell_type": "code",
   "execution_count": 4,
   "metadata": {},
   "outputs": [
    {
     "name": "stdout",
     "output_type": "stream",
     "text": [
      "In the global  : initial  initial  initial  initial \n",
      "After local    : test     test     test     test    \n",
      "After nonlocal : test     test     nonlocal test    \n",
      "After global   : test     test     nonlocal test    \n",
      "After func call: initial  initial  initial  global  \n"
     ]
    }
   ],
   "source": [
    "#グローバルスコープ\n",
    "def scope_test():\n",
    "    #ネステッドスコープ（scope_testのローカルスコープ\n",
    "    def do_local():\n",
    "        #ローカルスコープ\n",
    "        s1 = \"local   \"\n",
    "    def do_nonlocal():\n",
    "        #ローカルからネステッドへスコープを移す\n",
    "        nonlocal s2\n",
    "        s2 = \"nonlocal\"\n",
    "    def do_global():\n",
    "        #ローカルからグローバルへスコープを移す\n",
    "        global s3\n",
    "        #グローバルスコープ\n",
    "        s3 = \"global  \"\n",
    "        \n",
    "    #ネステッドスコープ（scope_testのローカルスコープ\n",
    "    s0 = s1 = s2 = s3 = \"test    \"\n",
    "    do_local()\n",
    "    print(\"After local    :\", s0, s1, s2, s3)\n",
    "    do_nonlocal()\n",
    "    print(\"After nonlocal :\", s0, s1, s2, s3)\n",
    "    do_global()\n",
    "    print(\"After global   :\", s0, s1, s2, s3)\n",
    "    \n",
    "#グローバルスコープ\n",
    "s0 = s1 = s2 = s3 = \"initial \"\n",
    "print(\"In the global  :\", s0, s1, s2, s3)\n",
    "scope_test()\n",
    "print(\"After func call:\", s0, s1, s2, s3)"
   ]
  },
  {
   "cell_type": "code",
   "execution_count": 19,
   "metadata": {},
   "outputs": [
    {
     "name": "stdout",
     "output_type": "stream",
     "text": [
      "In event1: Happy   -> After event1: Happy  \n",
      "In event2: Sad     -> After event2: Happy  \n",
      "In event3: Tired   -> After event3: Tired  \n",
      "In event4: Excite  -> After event4: Tired  \n",
      "In event5: Scare   -> After event5: Tired  \n"
     ]
    }
   ],
   "source": [
    "x = 'Happy  '\n",
    "def event1():\n",
    "    print(\"In event1:\", x, end=\" -> \")\n",
    "\n",
    "def event2():\n",
    "    x = 'Sad    '\n",
    "    print(\"In event2:\", x, end=\" -> \")\n",
    "\n",
    "def event3():\n",
    "    global x\n",
    "    x = 'Tired  '\n",
    "    print(\"In event3:\", x, end=\" -> \")\n",
    "    \n",
    "def event4():\n",
    "    x = 'Excite '\n",
    "    def happening():\n",
    "        print(\"In event4:\", x, end=\" -> \")        \n",
    "    happening()\n",
    "    \n",
    "def event5():\n",
    "    x = 'Fun    '\n",
    "    def happening():\n",
    "        nonlocal x\n",
    "        x = 'Scare  '\n",
    "    happening()\n",
    "    print(\"In event5:\", x, end=\" -> \")\n",
    "    \n",
    "func_list = [event1, event2, event3, event4, event5]\n",
    "for f in func_list:\n",
    "    f()\n",
    "    print(\"After {}: {}\".format(f.__name__, x))"
   ]
  },
  {
   "cell_type": "code",
   "execution_count": 20,
   "metadata": {},
   "outputs": [
    {
     "data": {
      "text/plain": [
       "8"
      ]
     },
     "execution_count": 20,
     "metadata": {},
     "output_type": "execute_result"
    }
   ],
   "source": [
    "import my_module\n",
    "my_module.func(5)"
   ]
  },
  {
   "cell_type": "code",
   "execution_count": 22,
   "metadata": {},
   "outputs": [
    {
     "data": {
      "text/plain": [
       "[1, 2, 3]"
      ]
     },
     "execution_count": 22,
     "metadata": {},
     "output_type": "execute_result"
    }
   ],
   "source": [
    "my_value = [1, 2, 3]\n",
    "[x for x in my_value]"
   ]
  },
  {
   "cell_type": "code",
   "execution_count": 25,
   "metadata": {},
   "outputs": [
    {
     "ename": "ValueError",
     "evalue": "invalid literal for int() with base 10: 'a'",
     "output_type": "error",
     "traceback": [
      "\u001b[0;31m---------------------------------------------------------------------------\u001b[0m",
      "\u001b[0;31mValueError\u001b[0m                                Traceback (most recent call last)",
      "\u001b[0;32m<ipython-input-25-233884bacd4e>\u001b[0m in \u001b[0;36m<module>\u001b[0;34m\u001b[0m\n\u001b[0;32m----> 1\u001b[0;31m \u001b[0mint\u001b[0m\u001b[0;34m(\u001b[0m\u001b[0;34m'a'\u001b[0m\u001b[0;34m)\u001b[0m\u001b[0;34m\u001b[0m\u001b[0;34m\u001b[0m\u001b[0m\n\u001b[0m",
      "\u001b[0;31mValueError\u001b[0m: invalid literal for int() with base 10: 'a'"
     ]
    }
   ],
   "source": [
    "int('a')"
   ]
  },
  {
   "cell_type": "code",
   "execution_count": 26,
   "metadata": {},
   "outputs": [
    {
     "ename": "IndexError",
     "evalue": "list index out of range",
     "output_type": "error",
     "traceback": [
      "\u001b[0;31m---------------------------------------------------------------------------\u001b[0m",
      "\u001b[0;31mIndexError\u001b[0m                                Traceback (most recent call last)",
      "\u001b[0;32m<ipython-input-26-bdfd2e88f568>\u001b[0m in \u001b[0;36m<module>\u001b[0;34m\u001b[0m\n\u001b[1;32m      1\u001b[0m \u001b[0mfib_num_list\u001b[0m \u001b[0;34m=\u001b[0m \u001b[0;34m[\u001b[0m\u001b[0;36m0\u001b[0m\u001b[0;34m,\u001b[0m \u001b[0;36m1\u001b[0m\u001b[0;34m,\u001b[0m \u001b[0;36m1\u001b[0m\u001b[0;34m,\u001b[0m \u001b[0;36m2\u001b[0m\u001b[0;34m,\u001b[0m \u001b[0;36m3\u001b[0m\u001b[0;34m,\u001b[0m \u001b[0;36m5\u001b[0m\u001b[0;34m,\u001b[0m \u001b[0;36m8\u001b[0m\u001b[0;34m]\u001b[0m\u001b[0;34m\u001b[0m\u001b[0;34m\u001b[0m\u001b[0m\n\u001b[0;32m----> 2\u001b[0;31m \u001b[0mfib_num_list\u001b[0m\u001b[0;34m[\u001b[0m\u001b[0;36m10\u001b[0m\u001b[0;34m]\u001b[0m\u001b[0;34m\u001b[0m\u001b[0;34m\u001b[0m\u001b[0m\n\u001b[0m",
      "\u001b[0;31mIndexError\u001b[0m: list index out of range"
     ]
    }
   ],
   "source": [
    "fib_num_list = [0, 1, 1, 2, 3, 5, 8]\n",
    "fib_num_list[10]"
   ]
  },
  {
   "cell_type": "code",
   "execution_count": 27,
   "metadata": {},
   "outputs": [
    {
     "ename": "KeyError",
     "evalue": "4",
     "output_type": "error",
     "traceback": [
      "\u001b[0;31m---------------------------------------------------------------------------\u001b[0m",
      "\u001b[0;31mKeyError\u001b[0m                                  Traceback (most recent call last)",
      "\u001b[0;32m<ipython-input-27-195d5a864e48>\u001b[0m in \u001b[0;36m<module>\u001b[0;34m\u001b[0m\n\u001b[1;32m      1\u001b[0m \u001b[0msecond_name_rank\u001b[0m \u001b[0;34m=\u001b[0m \u001b[0;34m{\u001b[0m\u001b[0;36m1\u001b[0m\u001b[0;34m:\u001b[0m \u001b[0;34m'satou'\u001b[0m\u001b[0;34m,\u001b[0m \u001b[0;36m2\u001b[0m\u001b[0;34m:\u001b[0m \u001b[0;34m'suzuki'\u001b[0m\u001b[0;34m,\u001b[0m \u001b[0;36m3\u001b[0m\u001b[0;34m:\u001b[0m \u001b[0;34m'takahashi'\u001b[0m\u001b[0;34m}\u001b[0m\u001b[0;34m\u001b[0m\u001b[0;34m\u001b[0m\u001b[0m\n\u001b[0;32m----> 2\u001b[0;31m \u001b[0msecond_name_rank\u001b[0m\u001b[0;34m[\u001b[0m\u001b[0;36m4\u001b[0m\u001b[0;34m]\u001b[0m\u001b[0;34m\u001b[0m\u001b[0;34m\u001b[0m\u001b[0m\n\u001b[0m",
      "\u001b[0;31mKeyError\u001b[0m: 4"
     ]
    }
   ],
   "source": [
    "second_name_rank = {1: 'satou', 2: 'suzuki', 3: 'takahashi'}\n",
    "second_name_rank[4]"
   ]
  },
  {
   "cell_type": "code",
   "execution_count": 28,
   "metadata": {},
   "outputs": [
    {
     "ename": "ZeroDivisionError",
     "evalue": "float division by zero",
     "output_type": "error",
     "traceback": [
      "\u001b[0;31m---------------------------------------------------------------------------\u001b[0m",
      "\u001b[0;31mZeroDivisionError\u001b[0m                         Traceback (most recent call last)",
      "\u001b[0;32m<ipython-input-28-86cc1d298a3f>\u001b[0m in \u001b[0;36m<module>\u001b[0;34m\u001b[0m\n\u001b[0;32m----> 1\u001b[0;31m \u001b[0;36m100.0\u001b[0m \u001b[0;34m/\u001b[0m \u001b[0;36m0\u001b[0m\u001b[0;34m\u001b[0m\u001b[0;34m\u001b[0m\u001b[0m\n\u001b[0m",
      "\u001b[0;31mZeroDivisionError\u001b[0m: float division by zero"
     ]
    }
   ],
   "source": [
    "100.0 / 0"
   ]
  },
  {
   "cell_type": "code",
   "execution_count": 29,
   "metadata": {},
   "outputs": [
    {
     "ename": "ZeroDivisionError",
     "evalue": "division by zero",
     "output_type": "error",
     "traceback": [
      "\u001b[0;31m---------------------------------------------------------------------------\u001b[0m",
      "\u001b[0;31mZeroDivisionError\u001b[0m                         Traceback (most recent call last)",
      "\u001b[0;32m<ipython-input-29-7ab7295d71aa>\u001b[0m in \u001b[0;36m<module>\u001b[0;34m\u001b[0m\n\u001b[1;32m      1\u001b[0m \u001b[0mx\u001b[0m \u001b[0;34m=\u001b[0m \u001b[0;36m10\u001b[0m\u001b[0;34m\u001b[0m\u001b[0;34m\u001b[0m\u001b[0m\n\u001b[1;32m      2\u001b[0m \u001b[0my\u001b[0m \u001b[0;34m=\u001b[0m \u001b[0;36m0\u001b[0m\u001b[0;34m\u001b[0m\u001b[0;34m\u001b[0m\u001b[0m\n\u001b[0;32m----> 3\u001b[0;31m \u001b[0mprint\u001b[0m\u001b[0;34m(\u001b[0m\u001b[0mx\u001b[0m \u001b[0;34m/\u001b[0m \u001b[0my\u001b[0m\u001b[0;34m)\u001b[0m\u001b[0;34m\u001b[0m\u001b[0;34m\u001b[0m\u001b[0m\n\u001b[0m",
      "\u001b[0;31mZeroDivisionError\u001b[0m: division by zero"
     ]
    }
   ],
   "source": [
    "x = 10\n",
    "y = 0\n",
    "print(x / y)"
   ]
  },
  {
   "cell_type": "code",
   "execution_count": 31,
   "metadata": {},
   "outputs": [
    {
     "ename": "TypeError",
     "evalue": "list indices must be integers or slices, not float",
     "output_type": "error",
     "traceback": [
      "\u001b[0;31m---------------------------------------------------------------------------\u001b[0m",
      "\u001b[0;31mTypeError\u001b[0m                                 Traceback (most recent call last)",
      "\u001b[0;32m<ipython-input-31-6a1398882623>\u001b[0m in \u001b[0;36m<module>\u001b[0;34m\u001b[0m\n\u001b[1;32m      1\u001b[0m \u001b[0mmy_list\u001b[0m \u001b[0;34m=\u001b[0m \u001b[0;34m[\u001b[0m\u001b[0;36m0\u001b[0m\u001b[0;34m,\u001b[0m \u001b[0;36m1\u001b[0m\u001b[0;34m,\u001b[0m \u001b[0;36m2\u001b[0m\u001b[0;34m,\u001b[0m \u001b[0;36m3\u001b[0m\u001b[0;34m]\u001b[0m\u001b[0;34m\u001b[0m\u001b[0;34m\u001b[0m\u001b[0m\n\u001b[0;32m----> 2\u001b[0;31m \u001b[0mmy_list\u001b[0m\u001b[0;34m[\u001b[0m\u001b[0;36m0.0\u001b[0m\u001b[0;34m]\u001b[0m\u001b[0;34m\u001b[0m\u001b[0;34m\u001b[0m\u001b[0m\n\u001b[0m\u001b[1;32m      3\u001b[0m \u001b[0;34m\u001b[0m\u001b[0m\n\u001b[1;32m      4\u001b[0m \u001b[0mprint\u001b[0m\u001b[0;34m(\u001b[0m\u001b[0mmy_list\u001b[0m\u001b[0;34m)\u001b[0m\u001b[0;34m\u001b[0m\u001b[0;34m\u001b[0m\u001b[0m\n",
      "\u001b[0;31mTypeError\u001b[0m: list indices must be integers or slices, not float"
     ]
    }
   ],
   "source": [
    "my_list = [0, 1, 2, 3]\n",
    "my_list[0.0]\n",
    "\n",
    "print(my_list)"
   ]
  },
  {
   "cell_type": "code",
   "execution_count": 39,
   "metadata": {},
   "outputs": [
    {
     "name": "stdout",
     "output_type": "stream",
     "text": [
      "None\n",
      "5\n",
      "None\n"
     ]
    }
   ],
   "source": [
    "def to_int(x):\n",
    "    try: \n",
    "        return int(x)\n",
    "    except:\n",
    "        return None\n",
    "\n",
    "print(to_int('a'))\n",
    "print(to_int('5'))\n",
    "print(to_int('b'))"
   ]
  },
  {
   "cell_type": "code",
   "execution_count": 45,
   "metadata": {},
   "outputs": [
    {
     "name": "stdout",
     "output_type": "stream",
     "text": [
      "list index out of range\n",
      "None\n",
      "3\n"
     ]
    }
   ],
   "source": [
    "def listinf(x, index):\n",
    "    try:\n",
    "        return x[index]\n",
    "    except:\n",
    "        print('list index out of range')\n",
    "        return None\n",
    "\n",
    "fib_num_list = [0, 1, 1, 2, 3, 5, 8]\n",
    "print(listinf(fib_num_list, 10))\n",
    "print(listinf(fib_num_list, 4))"
   ]
  },
  {
   "cell_type": "code",
   "execution_count": 50,
   "metadata": {},
   "outputs": [
    {
     "name": "stdout",
     "output_type": "stream",
     "text": [
      "FileNotFoundError: (<class 'FileNotFoundError'>, FileNotFoundError(2, 'No such file or directory'), <traceback object at 0x7fe16862c300>)\n",
      "err: [Errno 2] No such file or directory: 'test1.txt'\n"
     ]
    }
   ],
   "source": [
    "import sys\n",
    "\n",
    "try:\n",
    "    with open('test1.txt') as f:\n",
    "        s = f.readline()\n",
    "    print(s)\n",
    "    \n",
    "except FileNotFoundError as err:\n",
    "    print('FileNotFoundError:', sys.exc_info())\n",
    "    print('err:', err)\n",
    "    \n",
    "except IOError:\n",
    "    print('IOError:', sys.exc_info())\n",
    "    \n",
    "except ValueError:\n",
    "    print('ValueError:', sys.exc_info())\n",
    "    \n",
    "except OSError as err:\n",
    "    print('OSError:', sys.exc_info())\n",
    "    print('err:', err)\n",
    "    \n",
    "except:\n",
    "    print('UnexpectedError:', sys.exc_info())\n",
    "    "
   ]
  },
  {
   "cell_type": "code",
   "execution_count": 52,
   "metadata": {},
   "outputs": [
    {
     "name": "stdout",
     "output_type": "stream",
     "text": [
      ": (<class 'FileNotFoundError'>, FileNotFoundError(2, 'No such file or directory'), <traceback object at 0x7fe16862ac80>)\n",
      "err: [Errno 2] No such file or directory: 'test1.txt'\n"
     ]
    }
   ],
   "source": [
    "import sys\n",
    "\n",
    "try:\n",
    "    with open('test1.txt') as f:\n",
    "        s = f.readline()\n",
    "    print(s)\n",
    "    \n",
    "except (FileNotFoundError, IOError, ValueError, OSError) as err:\n",
    "    print(':', sys.exc_info())\n",
    "    print('err:', err)\n",
    "        \n",
    "except:\n",
    "    print('UnexpectedError:', sys.exc_info())\n",
    "    "
   ]
  },
  {
   "cell_type": "code",
   "execution_count": 56,
   "metadata": {},
   "outputs": [
    {
     "name": "stdout",
     "output_type": "stream",
     "text": [
      "Hello!!\n",
      "Read File Complete\n"
     ]
    }
   ],
   "source": [
    "import sys\n",
    "\n",
    "try:\n",
    "    with open('Hello.txt') as f:\n",
    "        s = f.readline()\n",
    "    print(s)\n",
    "    \n",
    "except FileNotFoundError as err:\n",
    "    print('FileNotFoundError:', sys.exc_info())\n",
    "    print('err:', err)\n",
    "    \n",
    "else:\n",
    "    print('Read File Complete')"
   ]
  },
  {
   "cell_type": "code",
   "execution_count": 60,
   "metadata": {},
   "outputs": [
    {
     "name": "stdout",
     "output_type": "stream",
     "text": [
      "test ('RaiseTest', datetime.datetime(2021, 8, 25, 7, 12, 51, 394687))\n"
     ]
    }
   ],
   "source": [
    "import datetime\n",
    "try:\n",
    "    raise Exception('RaiseTest', datetime.datetime.now())\n",
    "except Exception as inst:\n",
    "    print('test', inst)"
   ]
  },
  {
   "cell_type": "code",
   "execution_count": 62,
   "metadata": {},
   "outputs": [
    {
     "name": "stdout",
     "output_type": "stream",
     "text": [
      "indexerr_test_func LookupError exception\n"
     ]
    }
   ],
   "source": [
    "def indexerr_test_func():\n",
    "    try:\n",
    "        my_list = [0, 1, 2, 3]\n",
    "        val = my_list[5]\n",
    "    except LookupError:\n",
    "        print('indexerr_test_func LookupError exception')\n",
    "indexerr_test_func()"
   ]
  },
  {
   "cell_type": "code",
   "execution_count": 63,
   "metadata": {},
   "outputs": [
    {
     "name": "stdout",
     "output_type": "stream",
     "text": [
      "例外Aが発生しました\n"
     ]
    }
   ],
   "source": [
    "class ExceptA(Exception):\n",
    "    def __str__(self):\n",
    "        return \"例外Aが発生しました\"\n",
    "\n",
    "try:\n",
    "    raise ExceptA()\n",
    "except ExceptA as ea:\n",
    "    print(ea)\n",
    "except:\n",
    "    print('Unexpected Error:', sys.exc_info())"
   ]
  },
  {
   "cell_type": "code",
   "execution_count": 66,
   "metadata": {},
   "outputs": [],
   "source": [
    "class MyValueLimitError(Exception):\n",
    "    def __init__(self, x1, x2, limit_number):\n",
    "        self.x1 = x1\n",
    "        self.x2 = x2\n",
    "        self.limit_number = limit_number\n",
    "        \n",
    "    def __str__(self):\n",
    "        return '値の取りうる範囲を超えています{0} {1} {2}'.format(self.x1, self.x2, self.limit_number)\n",
    "\n",
    "def multiplication_limit(x1, x2, limit_number):\n",
    "    try:\n",
    "        x = x1 * x2\n",
    "        if x > limit_number:\n",
    "            raise MyValueLimitError(x1, x2, limit_number)\n",
    "        return x\n",
    "    except MyValueLimitError as vle:\n",
    "        print(vle)\n",
    "        return limit_number\n",
    "    except:\n",
    "        print('Unexpected Error:', sys.exc_info)\n",
    "        return None"
   ]
  },
  {
   "cell_type": "code",
   "execution_count": 68,
   "metadata": {},
   "outputs": [
    {
     "data": {
      "text/plain": [
       "5000"
      ]
     },
     "execution_count": 68,
     "metadata": {},
     "output_type": "execute_result"
    }
   ],
   "source": [
    "limit_number = 10000\n",
    "multiplication_limit(100, 50, limit_number)"
   ]
  },
  {
   "cell_type": "code",
   "execution_count": 70,
   "metadata": {},
   "outputs": [
    {
     "name": "stdout",
     "output_type": "stream",
     "text": [
      "Try    +++++++++++++++++++\n",
      "Exception ++++++++++++++++\n",
      "test_list [0, 1, 2, 3, 4, 5, 6, 7, 8, 9, 10]\n",
      "\n",
      "Normal Fin +++++++++++++++\n",
      "Finally ++++++++++++++++++\n",
      "test_list [0, 1, 2, 3, 4, 5, 6, 7, 8, 9, 10]\n",
      "finally: clear test_list complete\n",
      "test_list []\n"
     ]
    }
   ],
   "source": [
    "def generate_intlist(x):\n",
    "    test_list = []\n",
    "    try:\n",
    "        print('Try    +++++++++++++++++++')\n",
    "        for i in range(x):\n",
    "            test_list.append(i)\n",
    "            if i == 10:\n",
    "                raise Exception()\n",
    "        print(test_list)\n",
    "    except Exception as inst:\n",
    "        print('Exception ++++++++++++++++')\n",
    "        print('test_list', test_list)\n",
    "        print(inst)\n",
    "        print('Normal Fin +++++++++++++++')\n",
    "    finally:\n",
    "        print('Finally ++++++++++++++++++')\n",
    "        print('test_list', test_list)\n",
    "        test_list.clear()\n",
    "        print('finally: clear test_list complete')\n",
    "        print('test_list', test_list)\n",
    "        \n",
    "test_list = []\n",
    "generate_intlist(100)"
   ]
  },
  {
   "cell_type": "code",
   "execution_count": null,
   "metadata": {},
   "outputs": [],
   "source": []
  }
 ],
 "metadata": {
  "kernelspec": {
   "display_name": "Python 3",
   "language": "python",
   "name": "python3"
  },
  "language_info": {
   "codemirror_mode": {
    "name": "ipython",
    "version": 3
   },
   "file_extension": ".py",
   "mimetype": "text/x-python",
   "name": "python",
   "nbconvert_exporter": "python",
   "pygments_lexer": "ipython3",
   "version": "3.8.10"
  }
 },
 "nbformat": 4,
 "nbformat_minor": 4
}
