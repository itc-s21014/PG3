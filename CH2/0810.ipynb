{
 "cells": [
  {
   "cell_type": "code",
   "execution_count": 2,
   "metadata": {},
   "outputs": [
    {
     "name": "stdout",
     "output_type": "stream",
     "text": [
      "animal: cat\n",
      "animal in my_func: cat\n",
      "vegetable in_the_func: carrot\n"
     ]
    },
    {
     "ename": "NameError",
     "evalue": "name 'vegetable' is not defined",
     "output_type": "error",
     "traceback": [
      "\u001b[0;31m----------------------------------------------------------------------\u001b[0m",
      "\u001b[0;31mNameError\u001b[0m                            Traceback (most recent call last)",
      "\u001b[0;32m<ipython-input-2-760fa0567582>\u001b[0m in \u001b[0;36m<module>\u001b[0;34m\u001b[0m\n\u001b[1;32m     13\u001b[0m \u001b[0;34m\u001b[0m\u001b[0m\n\u001b[1;32m     14\u001b[0m \u001b[0mmy_func\u001b[0m\u001b[0;34m(\u001b[0m\u001b[0;34m)\u001b[0m\u001b[0;34m\u001b[0m\u001b[0;34m\u001b[0m\u001b[0m\n\u001b[0;32m---> 15\u001b[0;31m \u001b[0mprint\u001b[0m\u001b[0;34m(\u001b[0m\u001b[0;34m\"vegetable:\"\u001b[0m\u001b[0;34m,\u001b[0m \u001b[0mvegetable\u001b[0m\u001b[0;34m)\u001b[0m\u001b[0;34m\u001b[0m\u001b[0;34m\u001b[0m\u001b[0m\n\u001b[0m",
      "\u001b[0;31mNameError\u001b[0m: name 'vegetable' is not defined"
     ]
    }
   ],
   "source": [
    "# グローバル変数を定義します\n",
    "animal = 'cat'\n",
    "# グローバル変数をプリントします\n",
    "print(\"animal:\", animal)\n",
    "\n",
    "def my_func():\n",
    "    # ローカル変数を定義します\n",
    "    vegetable = 'carrot'\n",
    "    # 関数の中でグローバル変数の値をプリントします\n",
    "    print(\"animal in my_func:\", animal)\n",
    "    # ローカル変数の値をプリントします\n",
    "    print(\"vegetable in_the_func:\", vegetable)\n",
    "    \n",
    "my_func()\n",
    "print(\"vegetable:\", vegetable)"
   ]
  },
  {
   "cell_type": "code",
   "execution_count": 3,
   "metadata": {},
   "outputs": [
    {
     "name": "stdout",
     "output_type": "stream",
     "text": [
      "animal: cat\n",
      "animal in my_func: dog\n",
      "animal global after my_func: cat\n"
     ]
    }
   ],
   "source": [
    "# グローバル変数を定義します\n",
    "animal = 'cat'\n",
    "# グローバル変数をプリントします\n",
    "print(\"animal:\", animal)\n",
    "\n",
    "def my_func():\n",
    "    # ローカル変数を定義します\n",
    "    animal = 'dog'\n",
    "    # 関数の中でグローバル変数の値をプリントします\n",
    "    print(\"animal in my_func:\", animal)\n",
    "    \n",
    "my_func()\n",
    "print(\"animal global after my_func:\", animal)"
   ]
  },
  {
   "cell_type": "code",
   "execution_count": 4,
   "metadata": {},
   "outputs": [
    {
     "name": "stdout",
     "output_type": "stream",
     "text": [
      "animal: cat\n",
      "animal in my_func: dog\n",
      "animal global after my_func: dog\n"
     ]
    }
   ],
   "source": [
    "# グローバル変数を定義します\n",
    "animal = 'cat'\n",
    "# グローバル変数をプリントします\n",
    "print(\"animal:\", animal)\n",
    "\n",
    "def my_func():\n",
    "    global animal\n",
    "    animal = 'dog'\n",
    "    # 関数の中でグローバル変数の値をプリントします\n",
    "    print(\"animal in my_func:\", animal)\n",
    "    \n",
    "my_func()\n",
    "print(\"animal global after my_func:\", animal)"
   ]
  },
  {
   "cell_type": "code",
   "execution_count": 7,
   "metadata": {},
   "outputs": [
    {
     "name": "stdout",
     "output_type": "stream",
     "text": [
      "global_list in the func: ['tomato', 'spinach', 'pumpkin', 'potato', 'lettuce']\n",
      "inserted to the head\n",
      "global_list in the func: ['cabbage', 'tomato', 'spinach', 'pumpkin', 'potato', 'lettuce']\n",
      "global_list in the func: ['cabbage', 'tomato', 'spinach', 'pumpkin', 'potato', 'lettuce']\n",
      "inserted to the head\n",
      "global_list in the func: ['eggplant', 'cabbage', 'tomato', 'spinach', 'pumpkin', 'potato', 'lettuce']\n",
      "global_list: ['eggplant', 'cabbage', 'tomato', 'spinach', 'pumpkin', 'potato', 'lettuce']\n"
     ]
    }
   ],
   "source": [
    "global_list = ['tomato', 'spinach', 'pumpkin', 'potato', 'lettuce']\n",
    "\n",
    "def add_to_head(vegetable):\n",
    "    global global_list\n",
    "    print(\"global_list in the func:\", global_list)\n",
    "    global_list.insert(0,vegetable)\n",
    "    print(\"inserted to the head\")\n",
    "    print(\"global_list in the func:\", global_list)\n",
    "    \n",
    "add_to_head('cabbage')\n",
    "add_to_head('eggplant')\n",
    "\n",
    "print(\"global_list:\", global_list)"
   ]
  },
  {
   "cell_type": "code",
   "execution_count": 8,
   "metadata": {},
   "outputs": [
    {
     "data": {
      "text/plain": [
       "10"
      ]
     },
     "execution_count": 8,
     "metadata": {},
     "output_type": "execute_result"
    }
   ],
   "source": [
    "sum([1,2,3,4])"
   ]
  },
  {
   "cell_type": "code",
   "execution_count": 9,
   "metadata": {},
   "outputs": [
    {
     "data": {
      "text/plain": [
       "45"
      ]
     },
     "execution_count": 9,
     "metadata": {},
     "output_type": "execute_result"
    }
   ],
   "source": [
    "sum(range(10))"
   ]
  },
  {
   "cell_type": "code",
   "execution_count": 12,
   "metadata": {},
   "outputs": [
    {
     "data": {
      "text/plain": [
       "10"
      ]
     },
     "execution_count": 12,
     "metadata": {},
     "output_type": "execute_result"
    }
   ],
   "source": [
    "add_all = sum\n",
    "add_all([1,2,3,4])"
   ]
  },
  {
   "cell_type": "code",
   "execution_count": 13,
   "metadata": {},
   "outputs": [
    {
     "data": {
      "text/plain": [
       "45"
      ]
     },
     "execution_count": 13,
     "metadata": {},
     "output_type": "execute_result"
    }
   ],
   "source": [
    "add_all(range(10))"
   ]
  },
  {
   "cell_type": "code",
   "execution_count": 14,
   "metadata": {},
   "outputs": [],
   "source": [
    "add_all = [sum, len]"
   ]
  },
  {
   "cell_type": "code",
   "execution_count": 15,
   "metadata": {},
   "outputs": [],
   "source": [
    "def say_hello():\n",
    "    print('こんにちは')"
   ]
  },
  {
   "cell_type": "code",
   "execution_count": 16,
   "metadata": {},
   "outputs": [
    {
     "name": "stdout",
     "output_type": "stream",
     "text": [
      "こんにちは\n"
     ]
    }
   ],
   "source": [
    "say_hello()"
   ]
  },
  {
   "cell_type": "code",
   "execution_count": 17,
   "metadata": {},
   "outputs": [],
   "source": [
    "def run_any_func(func):\n",
    "    for i in range(2):\n",
    "        func()"
   ]
  },
  {
   "cell_type": "code",
   "execution_count": 21,
   "metadata": {},
   "outputs": [
    {
     "name": "stdout",
     "output_type": "stream",
     "text": [
      "こんにちは\n",
      "こんにちは\n"
     ]
    }
   ],
   "source": [
    "run_any_func(say_hello)"
   ]
  },
  {
   "cell_type": "code",
   "execution_count": 19,
   "metadata": {},
   "outputs": [
    {
     "name": "stdout",
     "output_type": "stream",
     "text": [
      "<built-in function sum>\n",
      "10\n"
     ]
    }
   ],
   "source": [
    "add_all = sum\n",
    "print(add_all)\n",
    "add_all = sum([1,2,3,4])\n",
    "print(add_all)"
   ]
  },
  {
   "cell_type": "code",
   "execution_count": 22,
   "metadata": {},
   "outputs": [],
   "source": [
    "def multi_func(number):\n",
    "    if number == 0:\n",
    "        print('min', end=\" \")\n",
    "        return min\n",
    "    if number == 1:\n",
    "        print('max', end=\" \")\n",
    "        return max\n",
    "    else:\n",
    "        print('sum', end=\" \")\n",
    "        return sum"
   ]
  },
  {
   "cell_type": "code",
   "execution_count": 23,
   "metadata": {},
   "outputs": [
    {
     "name": "stdout",
     "output_type": "stream",
     "text": [
      "min 1\n",
      "max 4\n",
      "sum 10\n"
     ]
    }
   ],
   "source": [
    "num_list = [1,2,3,4]\n",
    "for i in [0,1,2]:\n",
    "    func = multi_func(i)\n",
    "    print(func(num_list))"
   ]
  },
  {
   "cell_type": "code",
   "execution_count": 24,
   "metadata": {},
   "outputs": [
    {
     "name": "stdout",
     "output_type": "stream",
     "text": [
      "100\n"
     ]
    }
   ],
   "source": [
    "def square(x):\n",
    "    '''与えられた数値の２乗を返す'''\n",
    "    return x ** 2\n",
    "\n",
    "print(square(10))"
   ]
  },
  {
   "cell_type": "code",
   "execution_count": 25,
   "metadata": {},
   "outputs": [
    {
     "name": "stdout",
     "output_type": "stream",
     "text": [
      "100\n"
     ]
    }
   ],
   "source": [
    "# 与えられた数値の２乗を返す\n",
    "sq_func = lambda x: x ** 2\n",
    "\n",
    "print(sq_func(10))"
   ]
  },
  {
   "cell_type": "code",
   "execution_count": 26,
   "metadata": {},
   "outputs": [
    {
     "name": "stdout",
     "output_type": "stream",
     "text": [
      "文字列リスト: ['No.1', 'No.2', 'No.3', 'No.4', 'No.5', 'No.6', 'No.7', 'No.8', 'No.9', 'No.10']\n"
     ]
    }
   ],
   "source": [
    "i_num_list = range(1,11)\n",
    "s_num_list = list(map(lambda i: \"No.\" + str(i), i_num_list))\n",
    "print(\"文字列リスト:\", s_num_list)"
   ]
  },
  {
   "cell_type": "code",
   "execution_count": 27,
   "metadata": {},
   "outputs": [
    {
     "name": "stdout",
     "output_type": "stream",
     "text": [
      "No.1   No.2   No.3   No.4   No.5   No.6   No.7   No.8   No.9   No.10   "
     ]
    }
   ],
   "source": [
    "# 数値を文字に変換して修飾します\n",
    "for s in map(lambda i: \"No.\" + str(i), range(1,11)):\n",
    "    print(s, end=\"   \")"
   ]
  },
  {
   "cell_type": "code",
   "execution_count": 28,
   "metadata": {},
   "outputs": [
    {
     "name": "stdout",
     "output_type": "stream",
     "text": [
      "2   4   6   8   10   "
     ]
    }
   ],
   "source": [
    "# 偶数だけ取得します\n",
    "for e in filter(lambda i: i%2==0, range(1,11)):\n",
    "    print(e, end=\"   \")"
   ]
  },
  {
   "cell_type": "code",
   "execution_count": 29,
   "metadata": {},
   "outputs": [
    {
     "name": "stdout",
     "output_type": "stream",
     "text": [
      "2   4   6   8   10   "
     ]
    }
   ],
   "source": [
    "def is_even(i):\n",
    "    '''偶数なら True'''\n",
    "    return i % 2 == 0\n",
    "\n",
    "for e in filter(is_even, range(1,11)):\n",
    "    print(e, end=\"   \")"
   ]
  },
  {
   "cell_type": "code",
   "execution_count": 30,
   "metadata": {},
   "outputs": [
    {
     "name": "stdout",
     "output_type": "stream",
     "text": [
      "[(2, 'down'), (1, 'up'), (4, 'charm'), (3, 'strange'), (6, 'top'), (5, 'bottom')]\n"
     ]
    }
   ],
   "source": [
    "pairs = [(2,'down'), (1,'up'), (4,'charm'), (3,'strange'), (6,'top'), (5,'bottom')]\n",
    "print(pairs)"
   ]
  },
  {
   "cell_type": "code",
   "execution_count": 31,
   "metadata": {},
   "outputs": [
    {
     "name": "stdout",
     "output_type": "stream",
     "text": [
      "[(1, 'up'), (2, 'down'), (3, 'strange'), (4, 'charm'), (5, 'bottom'), (6, 'top')]\n"
     ]
    }
   ],
   "source": [
    "pairs.sort()\n",
    "print(pairs)"
   ]
  },
  {
   "cell_type": "code",
   "execution_count": 34,
   "metadata": {},
   "outputs": [
    {
     "name": "stdout",
     "output_type": "stream",
     "text": [
      "[(5, 'bottom'), (4, 'charm'), (2, 'down'), (3, 'strange'), (6, 'top'), (1, 'up')]\n"
     ]
    }
   ],
   "source": [
    "pairs.sort(key=lambda x: x[1])\n",
    "print(pairs)"
   ]
  },
  {
   "cell_type": "code",
   "execution_count": 35,
   "metadata": {},
   "outputs": [
    {
     "name": "stdout",
     "output_type": "stream",
     "text": [
      "[(1, 'up'), (6, 'top'), (3, 'strange'), (2, 'down'), (4, 'charm'), (5, 'bottom')]\n"
     ]
    }
   ],
   "source": [
    "pairs.sort(key=lambda x: x[1], reverse=True)\n",
    "print(pairs)"
   ]
  },
  {
   "cell_type": "code",
   "execution_count": 41,
   "metadata": {},
   "outputs": [
    {
     "name": "stdout",
     "output_type": "stream",
     "text": [
      "[(1, 'up'), (2, 'down'), (3, 'strange'), (4, 'charm'), (5, 'bottom'), (6, 'top')]\n",
      "[(1, 'up'), (6, 'top'), (3, 'strange'), (2, 'down'), (4, 'charm'), (5, 'bottom')]\n"
     ]
    }
   ],
   "source": [
    "new_pairs = sorted(pairs, key=lambda x: x[0])\n",
    "print(new_pairs)\n",
    "print(pairs)"
   ]
  },
  {
   "cell_type": "code",
   "execution_count": 42,
   "metadata": {},
   "outputs": [
    {
     "data": {
      "text/plain": [
       "'odd'"
      ]
     },
     "execution_count": 42,
     "metadata": {},
     "output_type": "execute_result"
    }
   ],
   "source": [
    "n = 3\n",
    "func = lambda n: \"even\" if (n % 2 == 0) else \"odd\"\n",
    "func(n)"
   ]
  },
  {
   "cell_type": "code",
   "execution_count": 43,
   "metadata": {},
   "outputs": [
    {
     "name": "stdout",
     "output_type": "stream",
     "text": [
      "odd\n"
     ]
    }
   ],
   "source": [
    "n = 3\n",
    "x = \"even\" if (n % 2 == 0) else \"odd\"\n",
    "print(x)"
   ]
  },
  {
   "cell_type": "code",
   "execution_count": 46,
   "metadata": {},
   "outputs": [
    {
     "name": "stdout",
     "output_type": "stream",
     "text": [
      "odd\n"
     ]
    }
   ],
   "source": [
    "n = 5\n",
    "if (n % 2 == 0):\n",
    "    x = \"even\"\n",
    "else:\n",
    "    x = \"odd\"\n",
    "print(x)"
   ]
  },
  {
   "cell_type": "code",
   "execution_count": 47,
   "metadata": {},
   "outputs": [],
   "source": [
    "def outer(a,b):\n",
    "    print('outer function (a,b) = ({}, {})'.format(a,b))\n",
    "    \n",
    "    def inner(c,d):\n",
    "        print('inner function (c,d) = ({}, {})'.format(c,d))\n",
    "        return c * d\n",
    "    \n",
    "    return inner(a,b)"
   ]
  },
  {
   "cell_type": "code",
   "execution_count": 48,
   "metadata": {},
   "outputs": [
    {
     "name": "stdout",
     "output_type": "stream",
     "text": [
      "outer function (a,b) = (4, 7)\n",
      "inner function (c,d) = (4, 7)\n",
      "28\n"
     ]
    }
   ],
   "source": [
    "a = outer(4,7)\n",
    "print(a)"
   ]
  },
  {
   "cell_type": "code",
   "execution_count": 49,
   "metadata": {},
   "outputs": [],
   "source": [
    "def make_circle_area_func(pi = 3.14):\n",
    "    '''円の面積を計算する関数を作る'''\n",
    "    \n",
    "    def circle_area(radius):\n",
    "        '''円の面積を計算する'''\n",
    "        \n",
    "        return radius * radius * pi\n",
    "    \n",
    "    return circle_area\n",
    "\n",
    "circle_area_default = make_circle_area_func()\n",
    "circle_area_precise = make_circle_area_func(pi = 3.1415926535)"
   ]
  },
  {
   "cell_type": "code",
   "execution_count": null,
   "metadata": {},
   "outputs": [],
   "source": []
  }
 ],
 "metadata": {
  "kernelspec": {
   "display_name": "Python 3",
   "language": "python",
   "name": "python3"
  },
  "language_info": {
   "codemirror_mode": {
    "name": "ipython",
    "version": 3
   },
   "file_extension": ".py",
   "mimetype": "text/x-python",
   "name": "python",
   "nbconvert_exporter": "python",
   "pygments_lexer": "ipython3",
   "version": "3.8.10"
  }
 },
 "nbformat": 4,
 "nbformat_minor": 4
}
